{
  "nbformat": 4,
  "nbformat_minor": 0,
  "metadata": {
    "colab": {
      "name": "S.SANTHOSH",
      "provenance": []
    },
    "kernelspec": {
      "name": "python3",
      "display_name": "Python 3"
    },
    "language_info": {
      "name": "python"
    }
  },
  "cells": [
    {
      "cell_type": "code",
      "metadata": {
        "colab": {
          "base_uri": "https://localhost:8080/",
          "height": 129
        },
        "id": "l_e-qi4TfcUU",
        "outputId": "c1eeba6f-4694-4ad6-e80d-68f46f202968"
      },
      "source": [
        "!pip install keras-tuner\n",
        "import tensorflow as tf\n",
        "from tensorflow import keras\n",
        "import numpy as np\n",
        "fashion_mnist=keras.datasets.fashion_mnist\n",
        "(train_images,train_labels),(test_images,test_labels)=fashion_mnist.load_data()\n",
        "train_images=train_images/255.0\n",
        "test_images=test_images/255.0\n",
        "train_images=test_images/255.0\n",
        "train_images[0].shape\n",
        "train_images=train_images.reshape(len(train_images),28,28,1)\n",
        "test_images=test_images.reshape(len(test_images),28,28,1)\n",
        "def build_model(hp):\n",
        " model=keras.sequential([\n",
        "  keras.layers.Conv2D(\n",
        "   filters=hp.Int('conv_1_filter',min_value=32,max_value=128,step=16),\n",
        "   kernel_size=hp.choice('conv_1_kernel',values==[3,5]),\n",
        "   activation='relu',\n",
        "   input_shape=(28,28,21)\n",
        "  ),\n",
        "  keras.layers.conv2D(\n",
        "   filters=hp.Int('conv_2_filter',min_value=32,max_value=64,step=16),\n",
        "   kernel_size=hp.choice('conv_2_kernel',values==[3,5]),\n",
        "   activation='relu',\n",
        "  ),\n",
        "  keras.layers.Flatten(),\n",
        "  keras.layers.Dense(\n",
        "   units=hp.Int('dense_1_units',min_value=32,max_value=128,step=16),\n",
        "   activation='relu',\n",
        "  ),\n",
        "  keras.layers.Dense(10,activation='softmax')\n",
        " ])\n",
        " model.compile(optimizer=keras.optimizers.Adam(hp.Choice('learning_rate',values=[le-2,le-3])),\n",
        "         loss='sparse_categorical_crossentropy',\n",
        "         metrics=['accuracy'])\n",
        " return mode1\n",
        "from kerastuner import RandomSearch\n",
        "from kerastuner.engine.hyperparameters import HyperParameters\n",
        "tuner_search=RandomSearch(build_model,\n",
        "         objective='val_accuracy',\n",
        "         max_trials=5,directory='output',project_name=\"Mnist Fashion\"\n",
        "tuner_search.search(train_images,train_labels,epochs=3,validation_split=0.1)\n",
        "model=tuner_search.get_best_models(num_models=1)[0]\n",
        "model.summary()"
      ],
      "execution_count": 27,
      "outputs": [
        {
          "output_type": "error",
          "ename": "SyntaxError",
          "evalue": "ignored",
          "traceback": [
            "\u001b[0;36m  File \u001b[0;32m\"<ipython-input-27-3a53b36cd9fe>\"\u001b[0;36m, line \u001b[0;32m42\u001b[0m\n\u001b[0;31m    tuner_search.search(train_images,train_labels,epochs=3,validation_split=0.1)\u001b[0m\n\u001b[0m               ^\u001b[0m\n\u001b[0;31mSyntaxError\u001b[0m\u001b[0;31m:\u001b[0m invalid syntax\n"
          ]
        }
      ]
    }
  ]
}